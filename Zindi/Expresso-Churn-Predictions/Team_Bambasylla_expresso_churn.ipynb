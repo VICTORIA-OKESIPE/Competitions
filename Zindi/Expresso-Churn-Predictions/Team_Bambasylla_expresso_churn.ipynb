{
  "nbformat": 4,
  "nbformat_minor": 0,
  "metadata": {
    "colab": {
      "name": "Team_Bambasylla_expresso_churn.ipynb",
      "provenance": [],
      "collapsed_sections": []
    },
    "kernelspec": {
      "name": "python3",
      "display_name": "Python 3"
    },
    "language_info": {
      "name": "python"
    },
    "accelerator": "GPU"
  },
  "cells": [
    {
      "cell_type": "markdown",
      "metadata": {
        "id": "3nHpNq8EuZj7"
      },
      "source": [
        "# Expresso Churn Prediction Challenge\n",
        "\n",
        "#Team: Bambasylla\n",
        "\n",
        "### Author 1: Victoria\n",
        "\n",
        "### Author 2: Allassan\n",
        "\n",
        "Creation date: 15/10/2021\n",
        "\n",
        "Update: 09/11/2021"
      ]
    },
    {
      "cell_type": "code",
      "metadata": {
        "colab": {
          "base_uri": "https://localhost:8080/"
        },
        "id": "rFGJ3sxouMLB",
        "outputId": "a364f07c-395f-496a-b402-3d2c4fa54540"
      },
      "source": [
        "# we use the zindi library to retreive information directly from the zindi website\n",
        "!pip install -q git+https://github.com/eaedk/testing-zindi-package.git"
      ],
      "execution_count": null,
      "outputs": [
        {
          "output_type": "stream",
          "name": "stdout",
          "text": [
            "  Building wheel for zindi (setup.py) ... \u001b[?25l\u001b[?25hdone\n"
          ]
        }
      ]
    },
    {
      "cell_type": "code",
      "metadata": {
        "id": "5finZru5wIWP"
      },
      "source": [
        "# Import Zindian class from the package\n",
        "from zindi.user import Zindian"
      ],
      "execution_count": null,
      "outputs": []
    },
    {
      "cell_type": "code",
      "metadata": {
        "colab": {
          "base_uri": "https://localhost:8080/"
        },
        "id": "grq5f8QGwphO",
        "outputId": "c8ddc7d7-048c-4d32-9e26-792219dfc2ac"
      },
      "source": [
        "# create a user object\n",
        "my_username = \"WedOO_ai\"\n",
        "user = Zindian(username = my_username)"
      ],
      "execution_count": null,
      "outputs": [
        {
          "output_type": "stream",
          "name": "stdout",
          "text": [
            "Your password\n",
            ">> ··········\n",
            "\n",
            "[ 🟢 ] 👋🏾👋🏾 Welcome WedOO_ai 👋🏾👋🏾\n",
            "\n"
          ]
        }
      ]
    },
    {
      "cell_type": "code",
      "metadata": {
        "colab": {
          "base_uri": "https://localhost:8080/",
          "height": 1000
        },
        "id": "iF2-BjevwtEJ",
        "outputId": "f03fd9ca-c280-49c0-983e-e04ca8f6e1dc"
      },
      "source": [
        "user.select_a_challenge()                               # Select a Zindi challenge\n",
        "user.which_challenge                                    # Get information about the selected challenge"
      ],
      "execution_count": null,
      "outputs": [
        {
          "output_type": "stream",
          "name": "stdout",
          "text": [
            "__________________________________________________________________________________________________________________________________\n",
            "|     |              |                  |                    |          \n",
            "|index|  challenge   |     problem      |       reward       |    id    \n",
            "|     |              |                  |                    |          \n",
            "----------------------------------------------------------------------------------------------------------------------------------\n",
            "|  0  |Public Compet |  Classification  |     $5 000 USD     | kenyan-sign-language-classification-challenge...\n",
            "----------------------------------------------------------------------------------------------------------------------------------\n",
            "|  1  | Public Hack  |  Classification  |      $300 USD      | kenyan-sign-language-classification-hackathon...\n",
            "----------------------------------------------------------------------------------------------------------------------------------\n",
            "|  2  |Public Compet |  Classification  |     $7 500 USD     | bloodsai-blood-spectroscopy-classification-challen...\n",
            "----------------------------------------------------------------------------------------------------------------------------------\n",
            "|  3  |Public Compet |Automatic Speech R|     $3 000 USD     | mozilla-luganda-automatic-speech-recognition...\n",
            "----------------------------------------------------------------------------------------------------------------------------------\n",
            "|  4  |Public Compet |    Prediction    |     $3 000 USD     | zindi-user-behaviour-birthday-challenge...\n",
            "----------------------------------------------------------------------------------------------------------------------------------\n",
            "|  5  |Public Compet |  Classification  |     Knowledge      | road-segment-identification...\n",
            "----------------------------------------------------------------------------------------------------------------------------------\n",
            "|  6  |Public Compet |    Prediction    |     $1 000 USD     | expresso-churn-prediction...\n",
            "----------------------------------------------------------------------------------------------------------------------------------\n",
            "|  7  |Public Compet |  Classification  |     $1 000 USD     | makerere-passion-fruit-disease-detection-challenge...\n",
            "----------------------------------------------------------------------------------------------------------------------------------\n",
            "|  8  |Public Compet |  Classification  |    2000 Points     | gender-based-violence-tweet-classification-challen...\n",
            "----------------------------------------------------------------------------------------------------------------------------------\n",
            "|  9  |Public Compet |     Forecast     |     $8 800USD      | radiant-earth-spot-the-crop-challenge...\n",
            "----------------------------------------------------------------------------------------------------------------------------------\n",
            "| 10  |Public Compet |     Forecast     |     $8 800 USD     | radiant-earth-spot-the-crop-xl-challenge...\n",
            "----------------------------------------------------------------------------------------------------------------------------------\n",
            "| 11  |Public Compet |    Prediction    |     Knowledge      | local-ocean-conservation-sea-turtle-face-detection...\n",
            "----------------------------------------------------------------------------------------------------------------------------------\n",
            "| 12  |Public Compet |  Classification  |     Knowledge      | zindiweekendz-learning-to-vaccinate-or-not-to-vacc...\n",
            "----------------------------------------------------------------------------------------------------------------------------------\n",
            "| 13  |Public Compet |  Classification  |     Knowledge      | swahili-news-classification...\n",
            "----------------------------------------------------------------------------------------------------------------------------------\n",
            "| 14  |Public Compet |    Prediction    |     Knowledge      | zindiweekendz-learning-urban-air-pollution-challen...\n",
            "----------------------------------------------------------------------------------------------------------------------------------\n",
            "| 15  |Public Compet |  Classification  |     Knowledge      | zindiweekendz-learning-covid-19-tweet-classificati...\n",
            "----------------------------------------------------------------------------------------------------------------------------------\n",
            "| 16  |Public Compet |    Prediction    |     Knowledge      | zindiweekendz-learning-south-african-covid-19-vuln...\n",
            "----------------------------------------------------------------------------------------------------------------------------------\n",
            "| 17  |Public Compet | Computer Vision  |     Knowledge      | zindiweekendz-learning-spot-the-mask-challenge...\n",
            "----------------------------------------------------------------------------------------------------------------------------------\n",
            "| 18  |Public Compet |    Prediction    |     Knowledge      | tanzania-tourism-prediction...\n",
            "----------------------------------------------------------------------------------------------------------------------------------\n",
            "| 19  |Public Compet |    Prediction    |     Knowledge      | data-science-nigeria-2019-challenge-1-insurance-pr...\n",
            "----------------------------------------------------------------------------------------------------------------------------------\n",
            "| 20  |Public Compet |  Classification  |     Knowledge      | ai-hack-tunisia-1-computer-vision-challenge-1...\n",
            "----------------------------------------------------------------------------------------------------------------------------------\n",
            "| 21  |Public Compet |  Classification  |     Knowledge      | ai-hack-tunisia-6-predictive-analytics-challenge-3...\n",
            "----------------------------------------------------------------------------------------------------------------------------------\n",
            "| 22  |Public Compet |    Prediction    |     Knowledge      | ai-tunisia-hack-5-predictive-analytics-challenge-2...\n",
            "----------------------------------------------------------------------------------------------------------------------------------\n",
            "| 23  |Public Compet | Computer Vision  |     Knowledge      | ai-hack-tunisia-2-computer-vision-challenge-2...\n",
            "----------------------------------------------------------------------------------------------------------------------------------\n",
            "| 24  |Public Compet |  Classification  |     Knowledge      | ai-hack-tunisia-4-predictive-analytics-challenge-1...\n",
            "----------------------------------------------------------------------------------------------------------------------------------\n",
            "| 25  |Public Compet | Computer Vision  |     Knowledge      | miia-pothole-image-classification-challenge...\n",
            "----------------------------------------------------------------------------------------------------------------------------------\n",
            "| 26  |Public Compet | Computer Vision  |     Knowledge      | sbtic-animal-classification...\n",
            "----------------------------------------------------------------------------------------------------------------------------------\n",
            "| 27  |Public Compet |    Prediction    |     Knowledge      | financial-inclusion-in-africa...\n",
            "----------------------------------------------------------------------------------------------------------------------------------\n",
            "| 28  |Public Compet | Computer Vision  |     Knowledge      | cmu-africa-data-science-club-challenge-1-computer-...\n",
            "----------------------------------------------------------------------------------------------------------------------------------\n",
            "| 29  |Public Compet |    Prediction    |     Knowledge      | data-science-nigeria-challenge-1-loan-default-pred...\n",
            "----------------------------------------------------------------------------------------------------------------------------------\n",
            "| 30  |Public Compet |    Prediction    |     Knowledge      | data-science-nigeria-challenge-2-recommendation-en...\n",
            "----------------------------------------------------------------------------------------------------------------------------------\n",
            "| 31  | Public Hack  |                  |        $800        | coral-classification-challenge...\n",
            "----------------------------------------------------------------------------------------------------------------------------------\n",
            "| 32  | Public Hack  | Computer Vision  |      $300 USD      | marine-invertebrates-classification-challenge...\n",
            "----------------------------------------------------------------------------------------------------------------------------------\n",
            "| 33  | Public Hack  |  Classification  |      $300 USD      | road-segment-identification-challenge...\n",
            "----------------------------------------------------------------------------------------------------------------------------------\n",
            "| 34  | Public Hack  |  Classification  |     $1 000 USD     | amld...   \n",
            "----------------------------------------------------------------------------------------------------------------------------------\n",
            "| 35  | Public Hack  |  Classification  |      $300 USD      | gender-based-violence-tweet-classification...\n",
            "----------------------------------------------------------------------------------------------------------------------------------\n",
            "| 36  | Public Hack  |     Forecast     |        $300        | radiant-earth-spot-the-crop-hackathon...\n",
            "----------------------------------------------------------------------------------------------------------------------------------\n",
            "| 37  | Public Hack  |                  |      $700 USD      | silicon-valley-21st-century-education-hackathon...\n",
            "----------------------------------------------------------------------------------------------------------------------------------\n",
            "| 38  |Public Compet |    Prediction    |     $1 000 USD     | cryptocurrency-closing-price-prediction...\n",
            "----------------------------------------------------------------------------------------------------------------------------------\n",
            "| 39  |Public Compet |    Prediction    |     $5 000 USD     | sfc-paygo-solar-credit-repayment-competition...\n",
            "----------------------------------------------------------------------------------------------------------------------------------\n",
            "| 40  | Public Hack  |    Prediction    |      $300 USD      | sfc-paygo-solar-credit-repayment-hackathon...\n",
            "----------------------------------------------------------------------------------------------------------------------------------\n",
            "| 41  |Public Compet |  Visualisation   |     $5 000 USD     | afd-solutions-for-gender-based-violence-challenge...\n",
            "----------------------------------------------------------------------------------------------------------------------------------\n",
            "| 42  |Public Compet |    Prediction    |Scholarship worth $3| ix-mobile-banking-prediction-challenge...\n",
            "----------------------------------------------------------------------------------------------------------------------------------\n",
            "| 43  |Public Compet |  Visualisation   |     $1 500 USD     | deepfake-africa-challenge...\n",
            "----------------------------------------------------------------------------------------------------------------------------------\n",
            "| 44  |Public Compet |    Prediction    |     $1 000 USD     | airqo-low-cost-air-quality-monitor-calibration-cha...\n",
            "----------------------------------------------------------------------------------------------------------------------------------\n",
            "| 45  | Public Hack  |    Prediction    |      $250 USD      | airqo-air-sensor-calibration-challenge...\n",
            "----------------------------------------------------------------------------------------------------------------------------------\n",
            "| 46  |Public Compet |    Prediction    |    2000 Points     | economic-well-being-prediction-challenge...\n",
            "----------------------------------------------------------------------------------------------------------------------------------\n",
            "| 47  | Public Hack  |    Prediction    |     $1,000 USD     | womens-hackathon...\n",
            "----------------------------------------------------------------------------------------------------------------------------------\n",
            "| 48  |Public Compet |    Prediction    |    $10 000 USD     | lacuna-correct-field-detection-challenge...\n",
            "----------------------------------------------------------------------------------------------------------------------------------\n",
            "| 49  |Public Compet |    Prediction    |     $1 000 USD     | autoinland-vehicle-insurance-claim-challenge...\n",
            "----------------------------------------------------------------------------------------------------------------------------------\n",
            "| 50  |Public Compet |    Collection    |     $1 000 USD     | afd-gender-based-violence-dataset-collection-chall...\n",
            "----------------------------------------------------------------------------------------------------------------------------------\n",
            "| 51  |Public Compet |Automatic Speech R|     $2 000 USD     | ai4d-baamtu-datamation-automatic-speech-recognitio...\n",
            "----------------------------------------------------------------------------------------------------------------------------------\n",
            "| 52  |Public Compet |  Classification  |     $2 000 USD     | ai4d-malawi-news-classification-challenge...\n",
            "----------------------------------------------------------------------------------------------------------------------------------\n",
            "| 53  |Public Compet |   Translation    |     $2 000 USD     | ai4d-takwimu-lab-machine-translation-challenge...\n",
            "----------------------------------------------------------------------------------------------------------------------------------\n",
            "| 54  |Public Compet |   Translation    |     $2 000 USD     | ai4d-yoruba-machine-translation-challenge...\n",
            "----------------------------------------------------------------------------------------------------------------------------------\n",
            "| 55  |Public Compet |  Classification  |     $2 000 USD     | ai4d-icompass-social-media-sentiment-analysis-for-...\n",
            "----------------------------------------------------------------------------------------------------------------------------------\n",
            "| 56  |Public Compet |  Classification  |   Job Interview    | instadeep-enzyme-classification-challenge...\n",
            "----------------------------------------------------------------------------------------------------------------------------------\n",
            "| 57  |Public Compet |    Prediction    |     $3 000 USD     | cgiar-crop-yield-prediction-challenge...\n",
            "----------------------------------------------------------------------------------------------------------------------------------\n",
            "| 58  |Public Compet |    Prediction    |     $6 000 USD     | uber-nairobi-ambulance-perambulation-challenge...\n",
            "----------------------------------------------------------------------------------------------------------------------------------\n",
            "| 59  |Public Compet |  Classification  |     $7 000 USD     | giz-nlp-agricultural-keyword-spotter...\n",
            "----------------------------------------------------------------------------------------------------------------------------------\n",
            "| 60  |Public Compet | Computer Vision  |     $3 000 USD     | cgiar-wheat-growth-stage-challenge...\n",
            "----------------------------------------------------------------------------------------------------------------------------------\n",
            "| 61  |Public Compet |  Classification  | 2000 Zindi Points  | runmila-ai-institute-minohealth-ai-labs-tuberculos...\n",
            "----------------------------------------------------------------------------------------------------------------------------------\n",
            "| 62  |Public Compet |    Prediction    |    $25 000 USD     | usaids-intelligent-forecasting-challenge-model-fut...\n",
            "----------------------------------------------------------------------------------------------------------------------------------\n",
            "| 63  |Public Compet |    Prediction    |     $5 000 USD     | zimnat-insurance-recommendation-challenge...\n",
            "----------------------------------------------------------------------------------------------------------------------------------\n",
            "| 64  |Public Compet |Reinforcement Lear| 3000 Zindi Points  | indaba-grand-challenge-curing-leishmaniasis...\n",
            "----------------------------------------------------------------------------------------------------------------------------------\n",
            "| 65  | Public Hack  |    Prediction    |     Knowledge      | fighting-fire-with-data-hackathon...\n",
            "----------------------------------------------------------------------------------------------------------------------------------\n",
            "| 66  | Public Hack  |  Classification  |    225,000 Tsh     | swahili-news-classification-challenge...\n",
            "----------------------------------------------------------------------------------------------------------------------------------\n",
            "| 67  | Public Hack  | Computer Vision  |     $1,000 USD     | sansa-informal-settlements-in-south-africa...\n",
            "----------------------------------------------------------------------------------------------------------------------------------\n",
            "| 68  |Public Compet |    Collection    |     $6 000 USD     | ai4d-african-language-dataset-challenge...\n",
            "----------------------------------------------------------------------------------------------------------------------------------\n",
            "| 69  | Public Hack  |    Prediction    |      $300 USD      | the-zimnat-insurance-assurance-challenge...\n",
            "----------------------------------------------------------------------------------------------------------------------------------\n",
            "| 70  |Public Compet |    Prediction    |     $3 000 USD     | akeed-restaurant-recommendation-challenge...\n",
            "----------------------------------------------------------------------------------------------------------------------------------\n",
            "| 71  | Public Hack  |    Prediction    |      $300 USD      | akeed-restaurant-recommendation-hackathon...\n",
            "----------------------------------------------------------------------------------------------------------------------------------\n",
            "| 72  | Public Hack  |  Classification  |      $300 USD      | covid-19-tweet-classification-challenge...\n",
            "----------------------------------------------------------------------------------------------------------------------------------\n",
            "| 73  |Public Compet |  Classification  |     $4 200 USD     | basic-needs-basic-rights-kenya-tech4mentalhealth...\n",
            "----------------------------------------------------------------------------------------------------------------------------------\n",
            "| 74  | Public Hack  |  Classification  |      $300 USD      | to-vaccinate-or-not-to-vaccinate-its-not-a-questio...\n",
            "----------------------------------------------------------------------------------------------------------------------------------\n",
            "| 75  | Public Hack  | Computer Vision  |      $300 USD      | spot-the-mask-challenge...\n",
            "----------------------------------------------------------------------------------------------------------------------------------\n",
            "| 76  | Public Hack  |    Prediction    |      $300 USD      | urban-air-pollution-challenge...\n",
            "----------------------------------------------------------------------------------------------------------------------------------\n",
            "| 77  | Public Hack  |    Prediction    |      $300 USD      | south-african-covid-19-vulnerability-map...\n",
            "----------------------------------------------------------------------------------------------------------------------------------\n",
            "| 78  |Public Compet |  Visualisation   |     $3 195 USD     | animal-insights-challenge...\n",
            "----------------------------------------------------------------------------------------------------------------------------------\n",
            "| 79  |Public Compet |     Forecast     |     $5 000 USD     | airqo-ugandan-air-quality-forecast-challenge...\n",
            "----------------------------------------------------------------------------------------------------------------------------------\n",
            "| 80  |Public Compet |     Forecast     |     $5 000 USD     | predict-the-global-spread-of-covid-19...\n",
            "----------------------------------------------------------------------------------------------------------------------------------\n",
            "| 81  |Public Compet | Computer Vision  |     $5 000 USD     | iclr-workshop-challenge-2-radiant-earth-computer-v...\n",
            "----------------------------------------------------------------------------------------------------------------------------------\n",
            "| 82  |Public Compet | Computer Vision  |     $5 000 USD     | iclr-workshop-challenge-1-cgiar-computer-vision-fo...\n",
            "----------------------------------------------------------------------------------------------------------------------------------\n",
            "| 83  |Public Compet |  Classification  | 2000 Zindi Points  | fowl-escapades...\n",
            "----------------------------------------------------------------------------------------------------------------------------------\n",
            "| 84  |Public Compet |     Forecast     |    $10 000 USD     | 2030-vision-flood-prediction-in-malawi...\n",
            "----------------------------------------------------------------------------------------------------------------------------------\n",
            "| 85  |Public Compet |  Visualisation   |     $5 000 USD     | 2030-vision-data-visualization-and-reporting-chall...\n",
            "----------------------------------------------------------------------------------------------------------------------------------\n",
            "| 86  |Public Compet |     Forecast     | 2000 Zindi Points  | sea-turtle-rescue-forecast-challenge...\n",
            "----------------------------------------------------------------------------------------------------------------------------------\n",
            "| 87  |Public Compet |    Prediction    |     $5 000 USD     | womxn-in-big-data-south-africa-female-headed-house...\n",
            "----------------------------------------------------------------------------------------------------------------------------------\n",
            "| 88  |Public Compet |  Classification  | 2000 Zindi Points  | tic-heap-cirta-particle-classification-challenge...\n",
            "----------------------------------------------------------------------------------------------------------------------------------\n",
            "| 89  |Public Compet |    Prediction    |     $5 500 USD     | uber-movement-sanral-cape-town-challenge...\n",
            "----------------------------------------------------------------------------------------------------------------------------------\n",
            "| 90  |Public Compet |    Prediction    | 2000 Zindi Points  | sbtic-xente-credit-scoring-challenge...\n",
            "----------------------------------------------------------------------------------------------------------------------------------\n",
            "| 91  |Public Compet |Reinforcement Lear|     Knowledge      | ibm-malaria-challenge...\n",
            "----------------------------------------------------------------------------------------------------------------------------------\n",
            "| 92  |Public Compet |    Prediction    |     $7 000 USD     | sendy-logistics-challenge...\n",
            "----------------------------------------------------------------------------------------------------------------------------------\n",
            "| 93  |Public Compet |     Forecast     |     $8 000 USD     | wazihub-soil-moisture-prediction-challenge...\n",
            "----------------------------------------------------------------------------------------------------------------------------------\n",
            "| 94  |Public Compet |  Visualisation   |     $3 000 USD     | ai-art... \n",
            "----------------------------------------------------------------------------------------------------------------------------------\n",
            "| 95  |Public Compet |  Classification  |     $4 500 USD     | xente-fraud-detection-challenge...\n",
            "----------------------------------------------------------------------------------------------------------------------------------\n",
            "| 96  |Public Compet |     Forecast     | 2000 Zindi Points  | mtoto-news-childline-kenya-call-volume-prediction-...\n",
            "----------------------------------------------------------------------------------------------------------------------------------\n",
            "| 97  |Public Compet |    Prediction    |Cash and prizes wort| mobile-money-and-financial-inclusion-in-tanzania-c...\n",
            "----------------------------------------------------------------------------------------------------------------------------------\n",
            "| 98  |Public Compet |  Classification  |    $11 000 USD     | farm-pin-crop-detection-challenge...\n",
            "----------------------------------------------------------------------------------------------------------------------------------\n",
            "| 99  |Public Compet |  Classification  |Cash and prizes wort| sea-turtle-rescue-error-detection-challenge...\n",
            "----------------------------------------------------------------------------------------------------------------------------------\n",
            "| 100 |Public Compet |    Prediction    |  500 Zindi Points  | busara-mental-health-prediction-challenge...\n",
            "----------------------------------------------------------------------------------------------------------------------------------\n",
            "| 101 |Public Compet |    Prediction    |    $12 000 USD     | traffic-jam-predicting-peoples-movement-into-nairo...\n",
            "----------------------------------------------------------------------------------------------------------------------------------\n",
            "| 102 |Public Compet |  Classification  |     $1 000 USD     | sustainable-development-goals-sdgs-text-classifica...\n",
            "----------------------------------------------------------------------------------------------------------------------------------\n",
            "| 103 |Public Compet |    Prediction    |     $1 000 USD     | social-media-prediction-challenge...\n",
            "__________________________________________________________________________________________________________________________________\n",
            "\n",
            "\n",
            "Type the index of the challenge you want to select or 'q' to exit.\n",
            ">>6\n",
            "\n",
            "[ 🟢 ] You choose the challenge : expresso-churn-prediction,\n",
            "\tCan you predict when an airtime customer will move to another provider?.\n",
            "\n",
            "\n",
            "[ 🟢 ] You are currently enrolled in : expresso-churn-prediction challenge,\n",
            "\tCan you predict when an airtime customer will move to another provider?.\n",
            "\n"
          ]
        },
        {
          "output_type": "execute_result",
          "data": {
            "application/vnd.google.colaboratory.intrinsic+json": {
              "type": "string"
            },
            "text/plain": [
              "'expresso-churn-prediction'"
            ]
          },
          "metadata": {},
          "execution_count": 7
        }
      ]
    },
    {
      "cell_type": "code",
      "metadata": {
        "colab": {
          "base_uri": "https://localhost:8080/"
        },
        "id": "cKP6uukJw0H2",
        "outputId": "947549c8-9927-4c89-9cf9-09dd7d57d37d"
      },
      "source": [
        "user.download_dataset(destination=\"dataset\") # Download the dataset of the selected challenge"
      ],
      "execution_count": null,
      "outputs": [
        {
          "output_type": "stream",
          "name": "stderr",
          "text": [
            "dataset/StarterNotebook.ipynb: 100%|██████████| 334k/334k [00:00<00:00, 501ko/s]\n",
            "dataset/VariableDefinitions.csv: 100%|██████████| 1.41k/1.41k [00:00<00:00, 800ko/s]\n",
            "dataset/SampleSubmission.csv: 100%|██████████| 15.6M/15.6M [00:02<00:00, 6.20Mo/s]\n",
            "dataset/Test.csv: 100%|██████████| 42.9M/42.9M [00:06<00:00, 7.28Mo/s]\n",
            "dataset/Train.csv: 100%|██████████| 247M/247M [00:52<00:00, 4.89Mo/s]\n"
          ]
        }
      ]
    },
    {
      "cell_type": "code",
      "metadata": {
        "id": "eCsz_hXRw_9W"
      },
      "source": [
        "#path to datasets:\n",
        "path='dataset/'"
      ],
      "execution_count": null,
      "outputs": []
    },
    {
      "cell_type": "code",
      "metadata": {
        "id": "XfNLIK-ixzOW"
      },
      "source": [
        "#importing necessary libraries\n",
        "import numpy as np\n",
        "import pandas as pd\n",
        "import matplotlib.pyplot as plt\n",
        "import seaborn as sns\n",
        "from sklearn.model_selection import train_test_split,KFold\n",
        "from catboost import CatBoostClassifier\n",
        "from xgboost import XGBClassifier\n",
        "from lightgbm import LGBMClassifier\n",
        "from sklearn.cluster import KMeans"
      ],
      "execution_count": null,
      "outputs": []
    },
    {
      "cell_type": "code",
      "metadata": {
        "id": "XeRMSE82xrTS"
      },
      "source": [
        "#chech over the different variables:\n",
        "var_def=pd.read_csv(path+'VariableDefinitions.csv')"
      ],
      "execution_count": null,
      "outputs": []
    },
    {
      "cell_type": "code",
      "metadata": {
        "colab": {
          "base_uri": "https://localhost:8080/",
          "height": 700
        },
        "id": "EyqPkoq4yL2P",
        "outputId": "673cc8c7-5e1b-42fb-ced7-dfafea637487"
      },
      "source": [
        "var_def"
      ],
      "execution_count": null,
      "outputs": [
        {
          "output_type": "execute_result",
          "data": {
            "text/html": [
              "<div>\n",
              "<style scoped>\n",
              "    .dataframe tbody tr th:only-of-type {\n",
              "        vertical-align: middle;\n",
              "    }\n",
              "\n",
              "    .dataframe tbody tr th {\n",
              "        vertical-align: top;\n",
              "    }\n",
              "\n",
              "    .dataframe thead th {\n",
              "        text-align: right;\n",
              "    }\n",
              "</style>\n",
              "<table border=\"1\" class=\"dataframe\">\n",
              "  <thead>\n",
              "    <tr style=\"text-align: right;\">\n",
              "      <th></th>\n",
              "      <th>Variable Definitions</th>\n",
              "      <th>Unnamed: 1</th>\n",
              "      <th>Unnamed: 2</th>\n",
              "    </tr>\n",
              "  </thead>\n",
              "  <tbody>\n",
              "    <tr>\n",
              "      <th>0</th>\n",
              "      <td>NaN</td>\n",
              "      <td>French</td>\n",
              "      <td>English</td>\n",
              "    </tr>\n",
              "    <tr>\n",
              "      <th>1</th>\n",
              "      <td>NaN</td>\n",
              "      <td>Le dataset churn comprend 19 variables dont 15...</td>\n",
              "      <td>The churn dataset includes 19 variables includ...</td>\n",
              "    </tr>\n",
              "    <tr>\n",
              "      <th>2</th>\n",
              "      <td>user_id</td>\n",
              "      <td>NaN</td>\n",
              "      <td>NaN</td>\n",
              "    </tr>\n",
              "    <tr>\n",
              "      <th>3</th>\n",
              "      <td>REGION</td>\n",
              "      <td>la localité de chaque client</td>\n",
              "      <td>the location of each client</td>\n",
              "    </tr>\n",
              "    <tr>\n",
              "      <th>4</th>\n",
              "      <td>TENURE</td>\n",
              "      <td>la durée dans le reseau</td>\n",
              "      <td>duration in the network</td>\n",
              "    </tr>\n",
              "    <tr>\n",
              "      <th>5</th>\n",
              "      <td>MONTANT</td>\n",
              "      <td>montant de recharge</td>\n",
              "      <td>top-up amount</td>\n",
              "    </tr>\n",
              "    <tr>\n",
              "      <th>6</th>\n",
              "      <td>FREQUENCE_RECH</td>\n",
              "      <td>nombre de fois que le client a fait une recharge</td>\n",
              "      <td>number of times the customer refilled</td>\n",
              "    </tr>\n",
              "    <tr>\n",
              "      <th>7</th>\n",
              "      <td>REVENUE</td>\n",
              "      <td>revenu mensuel de chaque client</td>\n",
              "      <td>monthly income of each client</td>\n",
              "    </tr>\n",
              "    <tr>\n",
              "      <th>8</th>\n",
              "      <td>ARPU_SEGMENT</td>\n",
              "      <td>revenu sur 90 jours/3</td>\n",
              "      <td>income over 90 days / 3</td>\n",
              "    </tr>\n",
              "    <tr>\n",
              "      <th>9</th>\n",
              "      <td>FREQUENCE</td>\n",
              "      <td>nombre de fois que client à fait un revenu</td>\n",
              "      <td>number of times the client has made an income</td>\n",
              "    </tr>\n",
              "    <tr>\n",
              "      <th>10</th>\n",
              "      <td>DATA_VOLUME</td>\n",
              "      <td>nombre de connexions</td>\n",
              "      <td>number of connections</td>\n",
              "    </tr>\n",
              "    <tr>\n",
              "      <th>11</th>\n",
              "      <td>ON_NET</td>\n",
              "      <td>appel inter expresso</td>\n",
              "      <td>inter expresso call</td>\n",
              "    </tr>\n",
              "    <tr>\n",
              "      <th>12</th>\n",
              "      <td>ORANGE</td>\n",
              "      <td>appel vers orange</td>\n",
              "      <td>call to orange</td>\n",
              "    </tr>\n",
              "    <tr>\n",
              "      <th>13</th>\n",
              "      <td>TIGO</td>\n",
              "      <td>appel vers Tigo</td>\n",
              "      <td>call to Tigo</td>\n",
              "    </tr>\n",
              "    <tr>\n",
              "      <th>14</th>\n",
              "      <td>ZONE1</td>\n",
              "      <td>appel vers les zone1</td>\n",
              "      <td>call to zones1</td>\n",
              "    </tr>\n",
              "    <tr>\n",
              "      <th>15</th>\n",
              "      <td>ZONE2</td>\n",
              "      <td>appel vers les zone2</td>\n",
              "      <td>call to zones2</td>\n",
              "    </tr>\n",
              "    <tr>\n",
              "      <th>16</th>\n",
              "      <td>MRG</td>\n",
              "      <td>un client qui fait du vas</td>\n",
              "      <td>a client who is going</td>\n",
              "    </tr>\n",
              "    <tr>\n",
              "      <th>17</th>\n",
              "      <td>REGULARITY</td>\n",
              "      <td>nombre de fois que le client est actif pendant...</td>\n",
              "      <td>number of times the client is active for 90 days</td>\n",
              "    </tr>\n",
              "    <tr>\n",
              "      <th>18</th>\n",
              "      <td>TOP_PACK</td>\n",
              "      <td>les pack les plus activés</td>\n",
              "      <td>the most active packs</td>\n",
              "    </tr>\n",
              "    <tr>\n",
              "      <th>19</th>\n",
              "      <td>FREQ_TOP_PACK</td>\n",
              "      <td>nombre de fois que le client a activé les pack...</td>\n",
              "      <td>number of times the client has activated the t...</td>\n",
              "    </tr>\n",
              "    <tr>\n",
              "      <th>20</th>\n",
              "      <td>CHURN</td>\n",
              "      <td>variable à predire - Target</td>\n",
              "      <td>variable to predict - Target</td>\n",
              "    </tr>\n",
              "  </tbody>\n",
              "</table>\n",
              "</div>"
            ],
            "text/plain": [
              "   Variable Definitions  ...                                         Unnamed: 2\n",
              "0                   NaN  ...                                            English\n",
              "1                   NaN  ...  The churn dataset includes 19 variables includ...\n",
              "2               user_id  ...                                                NaN\n",
              "3                REGION  ...                        the location of each client\n",
              "4                TENURE  ...                            duration in the network\n",
              "5               MONTANT  ...                                      top-up amount\n",
              "6        FREQUENCE_RECH  ...              number of times the customer refilled\n",
              "7               REVENUE  ...                      monthly income of each client\n",
              "8          ARPU_SEGMENT  ...                            income over 90 days / 3\n",
              "9             FREQUENCE  ...      number of times the client has made an income\n",
              "10          DATA_VOLUME  ...                              number of connections\n",
              "11               ON_NET  ...                                inter expresso call\n",
              "12               ORANGE  ...                                     call to orange\n",
              "13                 TIGO  ...                                       call to Tigo\n",
              "14                ZONE1  ...                                     call to zones1\n",
              "15                ZONE2  ...                                     call to zones2\n",
              "16                  MRG  ...                              a client who is going\n",
              "17           REGULARITY  ...   number of times the client is active for 90 days\n",
              "18             TOP_PACK  ...                              the most active packs\n",
              "19        FREQ_TOP_PACK  ...  number of times the client has activated the t...\n",
              "20                CHURN  ...                       variable to predict - Target\n",
              "\n",
              "[21 rows x 3 columns]"
            ]
          },
          "metadata": {},
          "execution_count": 12
        }
      ]
    },
    {
      "cell_type": "code",
      "metadata": {
        "id": "26d0YgxjyOIG"
      },
      "source": [
        "#loading the dataset\n",
        "train=pd.read_csv(path+'Train.csv')"
      ],
      "execution_count": null,
      "outputs": []
    },
    {
      "cell_type": "code",
      "metadata": {
        "colab": {
          "base_uri": "https://localhost:8080/",
          "height": 309
        },
        "id": "IymgjRLMK7j5",
        "outputId": "56a1c28d-ee44-4159-99c6-96c64ac2ae33"
      },
      "source": [
        "train.head()"
      ],
      "execution_count": null,
      "outputs": [
        {
          "output_type": "execute_result",
          "data": {
            "text/html": [
              "<div>\n",
              "<style scoped>\n",
              "    .dataframe tbody tr th:only-of-type {\n",
              "        vertical-align: middle;\n",
              "    }\n",
              "\n",
              "    .dataframe tbody tr th {\n",
              "        vertical-align: top;\n",
              "    }\n",
              "\n",
              "    .dataframe thead th {\n",
              "        text-align: right;\n",
              "    }\n",
              "</style>\n",
              "<table border=\"1\" class=\"dataframe\">\n",
              "  <thead>\n",
              "    <tr style=\"text-align: right;\">\n",
              "      <th></th>\n",
              "      <th>user_id</th>\n",
              "      <th>REGION</th>\n",
              "      <th>TENURE</th>\n",
              "      <th>MONTANT</th>\n",
              "      <th>FREQUENCE_RECH</th>\n",
              "      <th>REVENUE</th>\n",
              "      <th>ARPU_SEGMENT</th>\n",
              "      <th>FREQUENCE</th>\n",
              "      <th>DATA_VOLUME</th>\n",
              "      <th>ON_NET</th>\n",
              "      <th>ORANGE</th>\n",
              "      <th>TIGO</th>\n",
              "      <th>ZONE1</th>\n",
              "      <th>ZONE2</th>\n",
              "      <th>MRG</th>\n",
              "      <th>REGULARITY</th>\n",
              "      <th>TOP_PACK</th>\n",
              "      <th>FREQ_TOP_PACK</th>\n",
              "      <th>CHURN</th>\n",
              "    </tr>\n",
              "  </thead>\n",
              "  <tbody>\n",
              "    <tr>\n",
              "      <th>0</th>\n",
              "      <td>00000bfd7d50f01092811bc0c8d7b0d6fe7c3596</td>\n",
              "      <td>FATICK</td>\n",
              "      <td>K &gt; 24 month</td>\n",
              "      <td>4250.0</td>\n",
              "      <td>15.0</td>\n",
              "      <td>4251.0</td>\n",
              "      <td>1417.0</td>\n",
              "      <td>17.0</td>\n",
              "      <td>4.0</td>\n",
              "      <td>388.0</td>\n",
              "      <td>46.0</td>\n",
              "      <td>1.0</td>\n",
              "      <td>1.0</td>\n",
              "      <td>2.0</td>\n",
              "      <td>NO</td>\n",
              "      <td>54</td>\n",
              "      <td>On net 200F=Unlimited _call24H</td>\n",
              "      <td>8.0</td>\n",
              "      <td>0</td>\n",
              "    </tr>\n",
              "    <tr>\n",
              "      <th>1</th>\n",
              "      <td>00000cb4a5d760de88fecb38e2f71b7bec52e834</td>\n",
              "      <td>NaN</td>\n",
              "      <td>I 18-21 month</td>\n",
              "      <td>NaN</td>\n",
              "      <td>NaN</td>\n",
              "      <td>NaN</td>\n",
              "      <td>NaN</td>\n",
              "      <td>NaN</td>\n",
              "      <td>NaN</td>\n",
              "      <td>NaN</td>\n",
              "      <td>NaN</td>\n",
              "      <td>NaN</td>\n",
              "      <td>NaN</td>\n",
              "      <td>NaN</td>\n",
              "      <td>NO</td>\n",
              "      <td>4</td>\n",
              "      <td>NaN</td>\n",
              "      <td>NaN</td>\n",
              "      <td>1</td>\n",
              "    </tr>\n",
              "    <tr>\n",
              "      <th>2</th>\n",
              "      <td>00001654a9d9f96303d9969d0a4a851714a4bb57</td>\n",
              "      <td>NaN</td>\n",
              "      <td>K &gt; 24 month</td>\n",
              "      <td>3600.0</td>\n",
              "      <td>2.0</td>\n",
              "      <td>1020.0</td>\n",
              "      <td>340.0</td>\n",
              "      <td>2.0</td>\n",
              "      <td>NaN</td>\n",
              "      <td>90.0</td>\n",
              "      <td>46.0</td>\n",
              "      <td>7.0</td>\n",
              "      <td>NaN</td>\n",
              "      <td>NaN</td>\n",
              "      <td>NO</td>\n",
              "      <td>17</td>\n",
              "      <td>On-net 1000F=10MilF;10d</td>\n",
              "      <td>1.0</td>\n",
              "      <td>0</td>\n",
              "    </tr>\n",
              "    <tr>\n",
              "      <th>3</th>\n",
              "      <td>00001dd6fa45f7ba044bd5d84937be464ce78ac2</td>\n",
              "      <td>DAKAR</td>\n",
              "      <td>K &gt; 24 month</td>\n",
              "      <td>13500.0</td>\n",
              "      <td>15.0</td>\n",
              "      <td>13502.0</td>\n",
              "      <td>4501.0</td>\n",
              "      <td>18.0</td>\n",
              "      <td>43804.0</td>\n",
              "      <td>41.0</td>\n",
              "      <td>102.0</td>\n",
              "      <td>2.0</td>\n",
              "      <td>NaN</td>\n",
              "      <td>NaN</td>\n",
              "      <td>NO</td>\n",
              "      <td>62</td>\n",
              "      <td>Data:1000F=5GB,7d</td>\n",
              "      <td>11.0</td>\n",
              "      <td>0</td>\n",
              "    </tr>\n",
              "    <tr>\n",
              "      <th>4</th>\n",
              "      <td>000028d9e13a595abe061f9b58f3d76ab907850f</td>\n",
              "      <td>DAKAR</td>\n",
              "      <td>K &gt; 24 month</td>\n",
              "      <td>1000.0</td>\n",
              "      <td>1.0</td>\n",
              "      <td>985.0</td>\n",
              "      <td>328.0</td>\n",
              "      <td>1.0</td>\n",
              "      <td>NaN</td>\n",
              "      <td>39.0</td>\n",
              "      <td>24.0</td>\n",
              "      <td>NaN</td>\n",
              "      <td>NaN</td>\n",
              "      <td>NaN</td>\n",
              "      <td>NO</td>\n",
              "      <td>11</td>\n",
              "      <td>Mixt 250F=Unlimited_call24H</td>\n",
              "      <td>2.0</td>\n",
              "      <td>0</td>\n",
              "    </tr>\n",
              "  </tbody>\n",
              "</table>\n",
              "</div>"
            ],
            "text/plain": [
              "                                    user_id  REGION  ... FREQ_TOP_PACK  CHURN\n",
              "0  00000bfd7d50f01092811bc0c8d7b0d6fe7c3596  FATICK  ...           8.0      0\n",
              "1  00000cb4a5d760de88fecb38e2f71b7bec52e834     NaN  ...           NaN      1\n",
              "2  00001654a9d9f96303d9969d0a4a851714a4bb57     NaN  ...           1.0      0\n",
              "3  00001dd6fa45f7ba044bd5d84937be464ce78ac2   DAKAR  ...          11.0      0\n",
              "4  000028d9e13a595abe061f9b58f3d76ab907850f   DAKAR  ...           2.0      0\n",
              "\n",
              "[5 rows x 19 columns]"
            ]
          },
          "metadata": {},
          "execution_count": 14
        }
      ]
    },
    {
      "cell_type": "markdown",
      "metadata": {
        "id": "lZ2XWfahLWGs"
      },
      "source": [
        "The train data takes quite some times to run because of its extremely large nature, before any further analysis,let's try to reduce the memory allocated to the data size using the function below."
      ]
    },
    {
      "cell_type": "code",
      "metadata": {
        "id": "bGjN2OejLDJY"
      },
      "source": [
        "def reduce_mem_usage(train_data):\n",
        "    \"\"\" iterate through all the columns of a dataframe and modify the data type\n",
        "    to reduce memory usage.\n",
        "\n",
        "    it's a customize variable. \n",
        "    \n",
        "    Here the train_data input is a datframe (train or test)\n",
        "    \"\"\"\n",
        "    start_mem = train_data.memory_usage().sum() / 1024**2\n",
        "    print('Memory usage of dataframe is {:.2f} MB'.format(start_mem))\n",
        "\n",
        "    for col in train_data.columns:\n",
        "        col_type = train_data[col].dtype\n",
        "\n",
        "        if col_type != object:\n",
        "            c_min = train_data[col].min()\n",
        "            c_max = train_data[col].max()\n",
        "            if str(col_type)[:3] == 'int':\n",
        "                if c_min > np.iinfo(np.int8).min and c_max < np.iinfo(np.int8).max:\n",
        "                    train_data[col] = train_data[col].astype(np.int8)\n",
        "                elif c_min > np.iinfo(np.int16).min and c_max < np.iinfo(np.int16).max:\n",
        "                    train_data[col] = train_data[col].astype(np.int16)\n",
        "                elif c_min > np.iinfo(np.int32).min and c_max < np.iinfo(np.int32).max:\n",
        "                    train_data[col] = train_data[col].astype(np.int32)\n",
        "                elif c_min > np.iinfo(np.int64).min and c_max < np.iinfo(np.int64).max:\n",
        "                    train_data[col] = train_data[col].astype(np.int64)  \n",
        "            else:\n",
        "                if c_min > np.finfo(np.float16).min and c_max < np.finfo(np.float16).max:\n",
        "                    train_data[col] = train_data[col].astype(np.float16)\n",
        "                elif c_min > np.finfo(np.float32).min and c_max < np.finfo(np.float32).max:\n",
        "                    train_data[col] = train_data[col].astype(np.float32)\n",
        "                else:\n",
        "                    train_data[col] = train_data[col].astype(np.float64)\n",
        "        else:\n",
        "            train_data[col] = train_data[col].astype('category')\n",
        "\n",
        "    end_mem = train_data.memory_usage().sum() / 1024**2\n",
        "    print('Memory usage after optimization is: {:.2f} MB'.format(end_mem))\n",
        "    print('Decreased by {:.1f}%'.format(100 * (start_mem - end_mem) / start_mem))\n",
        "\n",
        "    return train_data"
      ],
      "execution_count": null,
      "outputs": []
    },
    {
      "cell_type": "code",
      "metadata": {
        "colab": {
          "base_uri": "https://localhost:8080/"
        },
        "id": "dM0EI86CMQqc",
        "outputId": "d706adcc-c73f-4ab9-bb36-190ff72ff05e"
      },
      "source": [
        "#to use the function\n",
        "import gc\n",
        "\n",
        "train = reduce_mem_usage(train)\n",
        "gc.collect()"
      ],
      "execution_count": null,
      "outputs": [
        {
          "output_type": "stream",
          "name": "stdout",
          "text": [
            "Memory usage of dataframe is 312.25 MB\n",
            "Memory usage after optimization is: 184.77 MB\n",
            "Decreased by 40.8%\n"
          ]
        },
        {
          "output_type": "execute_result",
          "data": {
            "text/plain": [
              "88"
            ]
          },
          "metadata": {},
          "execution_count": 16
        }
      ]
    },
    {
      "cell_type": "code",
      "metadata": {
        "id": "Pl3RRUZKMfCu"
      },
      "source": [
        "#same with the test data\n",
        "test=pd.read_csv(path+'Test.csv')"
      ],
      "execution_count": null,
      "outputs": []
    },
    {
      "cell_type": "code",
      "metadata": {
        "colab": {
          "base_uri": "https://localhost:8080/"
        },
        "id": "VZsjCg8DNira",
        "outputId": "d49d457b-d7bb-47b2-e94a-654e7d4c7214"
      },
      "source": [
        "test=reduce_mem_usage(test)\n",
        "gc.collect()"
      ],
      "execution_count": null,
      "outputs": [
        {
          "output_type": "stream",
          "name": "stdout",
          "text": [
            "Memory usage of dataframe is 52.20 MB\n",
            "Memory usage after optimization is: 27.77 MB\n",
            "Decreased by 46.8%\n"
          ]
        },
        {
          "output_type": "execute_result",
          "data": {
            "text/plain": [
              "249"
            ]
          },
          "metadata": {},
          "execution_count": 16
        }
      ]
    },
    {
      "cell_type": "markdown",
      "metadata": {
        "id": "cEICapB0OGhk"
      },
      "source": [
        "# Expresso Churn EDA\n",
        "\n",
        "We start by cleaning our data may be merging the train and test when performing the analysis will be nice \n",
        "\n"
      ]
    },
    {
      "cell_type": "code",
      "metadata": {
        "colab": {
          "base_uri": "https://localhost:8080/",
          "height": 307
        },
        "id": "5olCkxAxNpwE",
        "outputId": "b2dc7da6-177e-46e0-e926-5b66302e1c3a"
      },
      "source": [
        "train.head()"
      ],
      "execution_count": null,
      "outputs": [
        {
          "output_type": "execute_result",
          "data": {
            "text/html": [
              "<div>\n",
              "<style scoped>\n",
              "    .dataframe tbody tr th:only-of-type {\n",
              "        vertical-align: middle;\n",
              "    }\n",
              "\n",
              "    .dataframe tbody tr th {\n",
              "        vertical-align: top;\n",
              "    }\n",
              "\n",
              "    .dataframe thead th {\n",
              "        text-align: right;\n",
              "    }\n",
              "</style>\n",
              "<table border=\"1\" class=\"dataframe\">\n",
              "  <thead>\n",
              "    <tr style=\"text-align: right;\">\n",
              "      <th></th>\n",
              "      <th>user_id</th>\n",
              "      <th>REGION</th>\n",
              "      <th>TENURE</th>\n",
              "      <th>MONTANT</th>\n",
              "      <th>FREQUENCE_RECH</th>\n",
              "      <th>REVENUE</th>\n",
              "      <th>ARPU_SEGMENT</th>\n",
              "      <th>FREQUENCE</th>\n",
              "      <th>DATA_VOLUME</th>\n",
              "      <th>ON_NET</th>\n",
              "      <th>ORANGE</th>\n",
              "      <th>TIGO</th>\n",
              "      <th>ZONE1</th>\n",
              "      <th>ZONE2</th>\n",
              "      <th>MRG</th>\n",
              "      <th>REGULARITY</th>\n",
              "      <th>TOP_PACK</th>\n",
              "      <th>FREQ_TOP_PACK</th>\n",
              "      <th>CHURN</th>\n",
              "    </tr>\n",
              "  </thead>\n",
              "  <tbody>\n",
              "    <tr>\n",
              "      <th>0</th>\n",
              "      <td>00000bfd7d50f01092811bc0c8d7b0d6fe7c3596</td>\n",
              "      <td>FATICK</td>\n",
              "      <td>K &gt; 24 month</td>\n",
              "      <td>4250.0</td>\n",
              "      <td>15.0</td>\n",
              "      <td>4251.0</td>\n",
              "      <td>1417.0</td>\n",
              "      <td>17.0</td>\n",
              "      <td>4.0</td>\n",
              "      <td>388.0</td>\n",
              "      <td>46.0</td>\n",
              "      <td>1.0</td>\n",
              "      <td>1.0</td>\n",
              "      <td>2.0</td>\n",
              "      <td>NO</td>\n",
              "      <td>54</td>\n",
              "      <td>On net 200F=Unlimited _call24H</td>\n",
              "      <td>8.0</td>\n",
              "      <td>0</td>\n",
              "    </tr>\n",
              "    <tr>\n",
              "      <th>1</th>\n",
              "      <td>00000cb4a5d760de88fecb38e2f71b7bec52e834</td>\n",
              "      <td>NaN</td>\n",
              "      <td>I 18-21 month</td>\n",
              "      <td>NaN</td>\n",
              "      <td>NaN</td>\n",
              "      <td>NaN</td>\n",
              "      <td>NaN</td>\n",
              "      <td>NaN</td>\n",
              "      <td>NaN</td>\n",
              "      <td>NaN</td>\n",
              "      <td>NaN</td>\n",
              "      <td>NaN</td>\n",
              "      <td>NaN</td>\n",
              "      <td>NaN</td>\n",
              "      <td>NO</td>\n",
              "      <td>4</td>\n",
              "      <td>NaN</td>\n",
              "      <td>NaN</td>\n",
              "      <td>1</td>\n",
              "    </tr>\n",
              "    <tr>\n",
              "      <th>2</th>\n",
              "      <td>00001654a9d9f96303d9969d0a4a851714a4bb57</td>\n",
              "      <td>NaN</td>\n",
              "      <td>K &gt; 24 month</td>\n",
              "      <td>3600.0</td>\n",
              "      <td>2.0</td>\n",
              "      <td>1020.0</td>\n",
              "      <td>340.0</td>\n",
              "      <td>2.0</td>\n",
              "      <td>NaN</td>\n",
              "      <td>90.0</td>\n",
              "      <td>46.0</td>\n",
              "      <td>7.0</td>\n",
              "      <td>NaN</td>\n",
              "      <td>NaN</td>\n",
              "      <td>NO</td>\n",
              "      <td>17</td>\n",
              "      <td>On-net 1000F=10MilF;10d</td>\n",
              "      <td>1.0</td>\n",
              "      <td>0</td>\n",
              "    </tr>\n",
              "    <tr>\n",
              "      <th>3</th>\n",
              "      <td>00001dd6fa45f7ba044bd5d84937be464ce78ac2</td>\n",
              "      <td>DAKAR</td>\n",
              "      <td>K &gt; 24 month</td>\n",
              "      <td>13500.0</td>\n",
              "      <td>15.0</td>\n",
              "      <td>13502.0</td>\n",
              "      <td>4501.0</td>\n",
              "      <td>18.0</td>\n",
              "      <td>43804.0</td>\n",
              "      <td>41.0</td>\n",
              "      <td>102.0</td>\n",
              "      <td>2.0</td>\n",
              "      <td>NaN</td>\n",
              "      <td>NaN</td>\n",
              "      <td>NO</td>\n",
              "      <td>62</td>\n",
              "      <td>Data:1000F=5GB,7d</td>\n",
              "      <td>11.0</td>\n",
              "      <td>0</td>\n",
              "    </tr>\n",
              "    <tr>\n",
              "      <th>4</th>\n",
              "      <td>000028d9e13a595abe061f9b58f3d76ab907850f</td>\n",
              "      <td>DAKAR</td>\n",
              "      <td>K &gt; 24 month</td>\n",
              "      <td>1000.0</td>\n",
              "      <td>1.0</td>\n",
              "      <td>985.0</td>\n",
              "      <td>328.0</td>\n",
              "      <td>1.0</td>\n",
              "      <td>NaN</td>\n",
              "      <td>39.0</td>\n",
              "      <td>24.0</td>\n",
              "      <td>NaN</td>\n",
              "      <td>NaN</td>\n",
              "      <td>NaN</td>\n",
              "      <td>NO</td>\n",
              "      <td>11</td>\n",
              "      <td>Mixt 250F=Unlimited_call24H</td>\n",
              "      <td>2.0</td>\n",
              "      <td>0</td>\n",
              "    </tr>\n",
              "  </tbody>\n",
              "</table>\n",
              "</div>"
            ],
            "text/plain": [
              "                                    user_id  REGION  ... FREQ_TOP_PACK  CHURN\n",
              "0  00000bfd7d50f01092811bc0c8d7b0d6fe7c3596  FATICK  ...           8.0      0\n",
              "1  00000cb4a5d760de88fecb38e2f71b7bec52e834     NaN  ...           NaN      1\n",
              "2  00001654a9d9f96303d9969d0a4a851714a4bb57     NaN  ...           1.0      0\n",
              "3  00001dd6fa45f7ba044bd5d84937be464ce78ac2   DAKAR  ...          11.0      0\n",
              "4  000028d9e13a595abe061f9b58f3d76ab907850f   DAKAR  ...           2.0      0\n",
              "\n",
              "[5 rows x 19 columns]"
            ]
          },
          "metadata": {},
          "execution_count": 17
        }
      ]
    },
    {
      "cell_type": "code",
      "metadata": {
        "id": "02SE1uQCS2JY",
        "colab": {
          "base_uri": "https://localhost:8080/"
        },
        "outputId": "1f722b16-ba13-4388-b88a-3062945f1023"
      },
      "source": [
        "train.CHURN.value_counts() #quite imbalance, if we want to train like this"
      ],
      "execution_count": null,
      "outputs": [
        {
          "output_type": "execute_result",
          "data": {
            "text/plain": [
              "0    1750062\n",
              "1     403986\n",
              "Name: CHURN, dtype: int64"
            ]
          },
          "metadata": {},
          "execution_count": 19
        }
      ]
    },
    {
      "cell_type": "code",
      "metadata": {
        "id": "bsF94TXe6oUk"
      },
      "source": [
        "data=pd.concat([train,test]).reset_index(drop=True) #merging the data"
      ],
      "execution_count": null,
      "outputs": []
    },
    {
      "cell_type": "code",
      "metadata": {
        "colab": {
          "base_uri": "https://localhost:8080/",
          "height": 307
        },
        "id": "mOv5Iht5Fihn",
        "outputId": "8a47fff5-79b5-41df-c0bb-6cec81c83e44"
      },
      "source": [
        "data.head()"
      ],
      "execution_count": null,
      "outputs": [
        {
          "output_type": "execute_result",
          "data": {
            "text/html": [
              "<div>\n",
              "<style scoped>\n",
              "    .dataframe tbody tr th:only-of-type {\n",
              "        vertical-align: middle;\n",
              "    }\n",
              "\n",
              "    .dataframe tbody tr th {\n",
              "        vertical-align: top;\n",
              "    }\n",
              "\n",
              "    .dataframe thead th {\n",
              "        text-align: right;\n",
              "    }\n",
              "</style>\n",
              "<table border=\"1\" class=\"dataframe\">\n",
              "  <thead>\n",
              "    <tr style=\"text-align: right;\">\n",
              "      <th></th>\n",
              "      <th>user_id</th>\n",
              "      <th>REGION</th>\n",
              "      <th>TENURE</th>\n",
              "      <th>MONTANT</th>\n",
              "      <th>FREQUENCE_RECH</th>\n",
              "      <th>REVENUE</th>\n",
              "      <th>ARPU_SEGMENT</th>\n",
              "      <th>FREQUENCE</th>\n",
              "      <th>DATA_VOLUME</th>\n",
              "      <th>ON_NET</th>\n",
              "      <th>ORANGE</th>\n",
              "      <th>TIGO</th>\n",
              "      <th>ZONE1</th>\n",
              "      <th>ZONE2</th>\n",
              "      <th>MRG</th>\n",
              "      <th>REGULARITY</th>\n",
              "      <th>TOP_PACK</th>\n",
              "      <th>FREQ_TOP_PACK</th>\n",
              "      <th>CHURN</th>\n",
              "    </tr>\n",
              "  </thead>\n",
              "  <tbody>\n",
              "    <tr>\n",
              "      <th>0</th>\n",
              "      <td>00000bfd7d50f01092811bc0c8d7b0d6fe7c3596</td>\n",
              "      <td>FATICK</td>\n",
              "      <td>K &gt; 24 month</td>\n",
              "      <td>4250.0</td>\n",
              "      <td>15.0</td>\n",
              "      <td>4251.0</td>\n",
              "      <td>1417.0</td>\n",
              "      <td>17.0</td>\n",
              "      <td>4.0</td>\n",
              "      <td>388.0</td>\n",
              "      <td>46.0</td>\n",
              "      <td>1.0</td>\n",
              "      <td>1.0</td>\n",
              "      <td>2.0</td>\n",
              "      <td>NO</td>\n",
              "      <td>54</td>\n",
              "      <td>On net 200F=Unlimited _call24H</td>\n",
              "      <td>8.0</td>\n",
              "      <td>0.0</td>\n",
              "    </tr>\n",
              "    <tr>\n",
              "      <th>1</th>\n",
              "      <td>00000cb4a5d760de88fecb38e2f71b7bec52e834</td>\n",
              "      <td>NaN</td>\n",
              "      <td>I 18-21 month</td>\n",
              "      <td>NaN</td>\n",
              "      <td>NaN</td>\n",
              "      <td>NaN</td>\n",
              "      <td>NaN</td>\n",
              "      <td>NaN</td>\n",
              "      <td>NaN</td>\n",
              "      <td>NaN</td>\n",
              "      <td>NaN</td>\n",
              "      <td>NaN</td>\n",
              "      <td>NaN</td>\n",
              "      <td>NaN</td>\n",
              "      <td>NO</td>\n",
              "      <td>4</td>\n",
              "      <td>NaN</td>\n",
              "      <td>NaN</td>\n",
              "      <td>1.0</td>\n",
              "    </tr>\n",
              "    <tr>\n",
              "      <th>2</th>\n",
              "      <td>00001654a9d9f96303d9969d0a4a851714a4bb57</td>\n",
              "      <td>NaN</td>\n",
              "      <td>K &gt; 24 month</td>\n",
              "      <td>3600.0</td>\n",
              "      <td>2.0</td>\n",
              "      <td>1020.0</td>\n",
              "      <td>340.0</td>\n",
              "      <td>2.0</td>\n",
              "      <td>NaN</td>\n",
              "      <td>90.0</td>\n",
              "      <td>46.0</td>\n",
              "      <td>7.0</td>\n",
              "      <td>NaN</td>\n",
              "      <td>NaN</td>\n",
              "      <td>NO</td>\n",
              "      <td>17</td>\n",
              "      <td>On-net 1000F=10MilF;10d</td>\n",
              "      <td>1.0</td>\n",
              "      <td>0.0</td>\n",
              "    </tr>\n",
              "    <tr>\n",
              "      <th>3</th>\n",
              "      <td>00001dd6fa45f7ba044bd5d84937be464ce78ac2</td>\n",
              "      <td>DAKAR</td>\n",
              "      <td>K &gt; 24 month</td>\n",
              "      <td>13500.0</td>\n",
              "      <td>15.0</td>\n",
              "      <td>13502.0</td>\n",
              "      <td>4501.0</td>\n",
              "      <td>18.0</td>\n",
              "      <td>43804.0</td>\n",
              "      <td>41.0</td>\n",
              "      <td>102.0</td>\n",
              "      <td>2.0</td>\n",
              "      <td>NaN</td>\n",
              "      <td>NaN</td>\n",
              "      <td>NO</td>\n",
              "      <td>62</td>\n",
              "      <td>Data:1000F=5GB,7d</td>\n",
              "      <td>11.0</td>\n",
              "      <td>0.0</td>\n",
              "    </tr>\n",
              "    <tr>\n",
              "      <th>4</th>\n",
              "      <td>000028d9e13a595abe061f9b58f3d76ab907850f</td>\n",
              "      <td>DAKAR</td>\n",
              "      <td>K &gt; 24 month</td>\n",
              "      <td>1000.0</td>\n",
              "      <td>1.0</td>\n",
              "      <td>985.0</td>\n",
              "      <td>328.0</td>\n",
              "      <td>1.0</td>\n",
              "      <td>NaN</td>\n",
              "      <td>39.0</td>\n",
              "      <td>24.0</td>\n",
              "      <td>NaN</td>\n",
              "      <td>NaN</td>\n",
              "      <td>NaN</td>\n",
              "      <td>NO</td>\n",
              "      <td>11</td>\n",
              "      <td>Mixt 250F=Unlimited_call24H</td>\n",
              "      <td>2.0</td>\n",
              "      <td>0.0</td>\n",
              "    </tr>\n",
              "  </tbody>\n",
              "</table>\n",
              "</div>"
            ],
            "text/plain": [
              "                                    user_id  REGION  ... FREQ_TOP_PACK  CHURN\n",
              "0  00000bfd7d50f01092811bc0c8d7b0d6fe7c3596  FATICK  ...           8.0    0.0\n",
              "1  00000cb4a5d760de88fecb38e2f71b7bec52e834     NaN  ...           NaN    1.0\n",
              "2  00001654a9d9f96303d9969d0a4a851714a4bb57     NaN  ...           1.0    0.0\n",
              "3  00001dd6fa45f7ba044bd5d84937be464ce78ac2   DAKAR  ...          11.0    0.0\n",
              "4  000028d9e13a595abe061f9b58f3d76ab907850f   DAKAR  ...           2.0    0.0\n",
              "\n",
              "[5 rows x 19 columns]"
            ]
          },
          "metadata": {},
          "execution_count": 21
        }
      ]
    },
    {
      "cell_type": "code",
      "metadata": {
        "id": "rOK_BkeoONff"
      },
      "source": [
        "data['REGION']=data['REGION'].astype('object')"
      ],
      "execution_count": null,
      "outputs": []
    },
    {
      "cell_type": "code",
      "metadata": {
        "id": "g7NHcMyEOdE_"
      },
      "source": [
        "#converting a category type variable to object\n",
        "data['TOP_PACK']=data['TOP_PACK'].astype('object')"
      ],
      "execution_count": null,
      "outputs": []
    },
    {
      "cell_type": "code",
      "metadata": {
        "id": "7EApkgwjApOK"
      },
      "source": [
        "### converting into categorical variable\n",
        "def tenure_cat(data):\n",
        "  cond=[(data.TENURE=='K > 24 month'),(data.TENURE=='I 18-21 month'),(data.TENURE=='H 15-18 month'),(data.TENURE=='G 12-15 month'),(data.TENURE=='J 21-24 month'),(data.TENURE=='F 9-12 month'),(data.TENURE=='E 6-9 month'),(data.TENURE=='D 3-6 month')]\n",
        "  val=[24,18,15,12,21,9,6,3]\n",
        "  data['TENURE']=np.select(cond,val)\n",
        "\n",
        "  return data"
      ],
      "execution_count": null,
      "outputs": []
    },
    {
      "cell_type": "code",
      "metadata": {
        "id": "9CbSc4A5GLe4"
      },
      "source": [
        "data=tenure_cat(data)"
      ],
      "execution_count": null,
      "outputs": []
    },
    {
      "cell_type": "markdown",
      "metadata": {
        "id": "jnMWWmVHKjBQ"
      },
      "source": [
        "## Preprocessing"
      ]
    },
    {
      "cell_type": "code",
      "metadata": {
        "id": "rA_a-CoYIeff"
      },
      "source": [
        "def preprocess(data):\n",
        "\n",
        "  ##filling missing values for categorical\n",
        "\n",
        "  data.REGION.fillna('region',inplace=True)\n",
        "\n",
        "  data.TOP_PACK.fillna('pack',inplace=True)\n",
        "\n",
        "  ## dealing with missing values for numerical variables\n",
        "\n",
        "  columns=[col for col in data.columns if col not in ['user_id','REGION','TENURE','CHURN','TOP_PACK','MRG']]\n",
        "\n",
        "  for col in columns:\n",
        "    data[col].fillna(-9999,inplace=True)\n",
        "  ###top_up_per_month######\n",
        "\n",
        "  data['top_up_per_month']=data['MONTANT']/data['FREQ_TOP_PACK']\n",
        "\n",
        "  ### tenure_per_regularity #######\n",
        "\n",
        "  data['tenure_per_reg']=data['TENURE']/data['REGULARITY']\n",
        "\n",
        "  data['income_to_amount']=data['REVENUE']/data['MONTANT']\n",
        "\n",
        "  data['tenure_freq_rech']=data['REVENUE']/data['FREQUENCE_RECH']\n",
        "\n",
        "  data['income_90_days_per_revenue']=data['ARPU_SEGMENT']/data['REVENUE']\n",
        "\n",
        "  data['revenue_after_topup']=data['REVENUE']-data['MONTANT']\n",
        "\n",
        "  data=data.drop(columns=['MRG'])\n",
        "\n",
        "  _region=pd.get_dummies(data['REGION'])\n",
        "\n",
        "  _pack=pd.get_dummies(data['TOP_PACK'])\n",
        "\n",
        "  data=pd.concat([data.drop('REGION',axis=1),_region],axis=1)\n",
        "\n",
        "  data=pd.concat([data.drop('TOP_PACK',axis=1),_pack],axis=1)\n",
        "\n",
        "  ## target encoding?---we will discuss about that\n",
        "\n",
        "  ## Principal component analysis? ----(class_1,class_2,class_4) this is feature engineering\n",
        "\n",
        "  ## Discuss about frequency encoding ? \n",
        "\n",
        "  ## Building our model--- (K-fold cross validation, stratified k-fold cv)\n",
        "\n",
        "  ## Build an ensemble model-- (LGBM+XGBoost+RandomForest)\n",
        "\n",
        "  ## Post-processing--distribution of the target is discrete (since they are classes)\n",
        "     #SO we can improve the performance by creating a range of values in a discrete interval\n",
        "\n",
        "  return data \n"
      ],
      "execution_count": null,
      "outputs": []
    },
    {
      "cell_type": "code",
      "metadata": {
        "id": "GVcmeXvAMJVv"
      },
      "source": [
        "## preprocessing the data \n",
        "data=preprocess(data)"
      ],
      "execution_count": null,
      "outputs": []
    },
    {
      "cell_type": "code",
      "metadata": {
        "id": "mBBI6dPQY4MA"
      },
      "source": [
        ""
      ],
      "execution_count": null,
      "outputs": []
    }
  ]
}